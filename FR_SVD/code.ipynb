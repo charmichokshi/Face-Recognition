{
 "cells": [
  {
   "cell_type": "markdown",
   "metadata": {},
   "source": [
    "# convert images to jpg"
   ]
  },
  {
   "cell_type": "code",
   "execution_count": 85,
   "metadata": {},
   "outputs": [],
   "source": [
    "Path = './yalefaces/'\n",
    "\n",
    "Path2 = './yaleface_jpg/'\n",
    "\n",
    "files = os.listdir(Path)\n",
    "files2 = os.listdir(Path2)\n",
    "images = []\n",
    "\n",
    "for name in files:\n",
    "    temp  = Image.open(Path+name).save('./yaleface_jpg/'+name+'.jpg')\n",
    "\n",
    "\n",
    "for name in files2:\n",
    "    temp = cv2.imread(Path2+name)\n",
    "    images.append(temp)"
   ]
  },
  {
   "cell_type": "code",
   "execution_count": 2,
   "metadata": {},
   "outputs": [],
   "source": [
    "#importing required library\n",
    "\n",
    "import os\n",
    "import cv2\n",
    "import numpy as np\n",
    "import math\n",
    "from PIL import Image"
   ]
  },
  {
   "cell_type": "code",
   "execution_count": 3,
   "metadata": {},
   "outputs": [],
   "source": [
    "#initializing global parameters\n",
    "\n",
    "# folder_tr = \"yaleface_jpg/tr\"\n",
    "# folder_te = \"yaleface_jpg/te\"\n",
    "folder_tr = \"tr\"\n",
    "folder_te = \"te\"\n",
    "total_tr = len(next(os.walk(os.getcwd()+\"/\"+folder_tr))[2])\n",
    "total_te = len(next(os.walk(os.getcwd()+\"/\"+folder_te))[2])\n",
    "dim = 200"
   ]
  },
  {
   "cell_type": "markdown",
   "metadata": {},
   "source": [
    "# training starts from here"
   ]
  },
  {
   "cell_type": "code",
   "execution_count": 4,
   "metadata": {},
   "outputs": [],
   "source": [
    "# input image maytix -> column\n",
    "# matrix L: all images column vise\n",
    "\n",
    "f = np.empty(shape=(dim*dim,total_tr), dtype='float64')\n",
    "i = 0\n",
    "for filename in os.listdir(os.getcwd()+\"/\"+folder_tr):\n",
    "    #Read a image \n",
    "    image = cv2.imread(folder_tr+\"/\"+filename)\n",
    "    #resize image\n",
    "    resized = cv2.resize(image, (dim,dim), interpolation = cv2.INTER_AREA)\n",
    "    #Convert it into grayscale image\n",
    "    gray_image = cv2.cvtColor(resized, cv2.COLOR_BGR2GRAY)\n",
    "    #flattening an image\n",
    "    gray_vector = np.array(gray_image, dtype='float64').flatten()\n",
    "    f[:, i] = gray_vector[:] \n",
    "    i = i + 1"
   ]
  },
  {
   "cell_type": "code",
   "execution_count": 5,
   "metadata": {},
   "outputs": [],
   "source": [
    "#Mean face\n",
    "mean_face = np.sum(f, axis=1) /total_tr\n",
    "\n",
    "#subtract mean face\n",
    "for i in range(total_tr):\n",
    "    f[:,i] -= mean_face[:]"
   ]
  },
  {
   "cell_type": "code",
   "execution_count": 6,
   "metadata": {},
   "outputs": [],
   "source": [
    "# SVD\n",
    "u, s, vh = np.linalg.svd(f, full_matrices=False)"
   ]
  },
  {
   "cell_type": "code",
   "execution_count": 7,
   "metadata": {},
   "outputs": [],
   "source": [
    "# Creating emplty array to store f*u\n",
    "fu = np.empty(shape = (u.shape[0]*u.shape[1], u.shape[1]),  dtype=np.int8)\n",
    "\n",
    "# Creating temp array\n",
    "temp = np.empty(shape = (u.shape[0], u.shape[1]),  dtype=np.int8)"
   ]
  },
  {
   "cell_type": "code",
   "execution_count": 8,
   "metadata": {},
   "outputs": [],
   "source": [
    "# loop over number of faces f, for f*u, store the answer of array by flattning it in fu array\n",
    "\n",
    "for i in range(f.shape[1]):\n",
    "    \n",
    "    for c in range(u.shape[1]):    \n",
    "        temp[:,c] = f[:,i] * u[:,c]\n",
    "    \n",
    "    tempF = np.array(temp, dtype='int8').flatten()\n",
    "    \n",
    "    fu[:, i] = tempF[:]"
   ]
  },
  {
   "cell_type": "markdown",
   "metadata": {},
   "source": [
    "# testing starts from here"
   ]
  },
  {
   "cell_type": "code",
   "execution_count": 9,
   "metadata": {},
   "outputs": [
    {
     "name": "stdout",
     "output_type": "stream",
     "text": [
      "input face:  subject01_glasses.jpg\n"
     ]
    }
   ],
   "source": [
    "tt = np.empty(shape = (u.shape[0], u.shape[1]),  dtype=np.int8)\n",
    "\n",
    "i = 0\n",
    "wrong = 0\n",
    "for filename in os.listdir(os.getcwd()+\"/\"+folder_te):\n",
    "    print(\"input face: \",filename)\n",
    "    # read image\n",
    "    test = cv2.imread(folder_te+\"/\"+filename)   \n",
    "    # resize\n",
    "    test = cv2.resize(test, (dim,dim), interpolation = cv2.INTER_AREA)\n",
    "    # convert to gray scale\n",
    "    test= cv2.cvtColor(test, cv2.COLOR_BGR2GRAY)\n",
    "    # flatten image\n",
    "    test = np.array(test, dtype='float64').flatten()  \n",
    "    # subtract mean\n",
    "    test -= mean_face     \n",
    "\n",
    "    # matrix: tt (test image as column vector)\n",
    "    tt[:, i] = test[:]\n",
    "    i=i+1"
   ]
  },
  {
   "cell_type": "code",
   "execution_count": 10,
   "metadata": {},
   "outputs": [],
   "source": [
    "# test image * u (u of SVD)\n",
    "\n",
    "# Creating emplty array to store f*u\n",
    "t = np.empty(shape = (u.shape[0], u.shape[1]),  dtype=np.int8)\n",
    "    \n",
    "for col in range(u.shape[1]):    \n",
    "    t[:,col] = tt[:,0] * u[:,col]\n",
    "    \n",
    "# flatten whole tt*u matrix\n",
    "tF = np.array(t, dtype='int8').flatten()"
   ]
  },
  {
   "cell_type": "code",
   "execution_count": 11,
   "metadata": {},
   "outputs": [],
   "source": [
    "# fu - tf\n",
    "\n",
    "fu_tu = np.empty(shape = (u.shape[0]*u.shape[1], u.shape[1]))\n",
    "\n",
    "for col in range(u.shape[1]):\n",
    "    fu_tu[:,col] = fu[:,col] - tF[:]"
   ]
  },
  {
   "cell_type": "code",
   "execution_count": 12,
   "metadata": {},
   "outputs": [],
   "source": [
    "# find norm\n",
    "\n",
    "from numpy import linalg as LA\n",
    "\n",
    "ans = np.empty(shape=(u.shape[1],))\n",
    "\n",
    "for c in range(fu_tu.shape[1]):    \n",
    "    ans[c] = np.linalg.norm(fu_tu[:,c])"
   ]
  },
  {
   "cell_type": "code",
   "execution_count": 16,
   "metadata": {},
   "outputs": [
    {
     "name": "stdout",
     "output_type": "stream",
     "text": [
      "norm:  103.261803199\n",
      "[ 103.2618032   199.73983078  297.2877394   325.81896814  273.78823934\n",
      "  211.45685139  267.17410054  238.40721466  180.0166659   219.34447793\n",
      "  298.44094893  268.26852219  390.75439857  262.80791464  213.11499243\n",
      "  276.28789333  225.09997779  233.54871012  255.97265479  330.12270446\n",
      "  314.591799    314.09075122  288.74556274  238.04831442]\n",
      "[ 103.2618032   180.0166659   199.73983078  211.45685139  213.11499243\n",
      "  219.34447793  225.09997779  233.54871012  238.04831442  238.40721466\n",
      "  255.97265479  262.80791464  267.17410054  268.26852219  273.78823934\n",
      "  276.28789333  288.74556274  297.2877394   298.44094893  314.09075122\n",
      "  314.591799    325.81896814  330.12270446  390.75439857]\n"
     ]
    }
   ],
   "source": [
    "# shorting norm values\n",
    "\n",
    "temp_ans = np.empty(shape=(u.shape[1],))\n",
    "temp=np.copy(ans)\n",
    "\n",
    "temp.sort()\n",
    "check = temp[0]\n",
    "print(\"norm: \",check)\n",
    "\n",
    "print(ans)\n",
    "print(temp)"
   ]
  },
  {
   "cell_type": "code",
   "execution_count": 14,
   "metadata": {},
   "outputs": [
    {
     "name": "stdout",
     "output_type": "stream",
     "text": [
      "image index: 0\n"
     ]
    }
   ],
   "source": [
    "# find image index at the minimum norm\n",
    "index=0\n",
    "\n",
    "for i in range(ans.shape[0]):\n",
    "    if check == ans[i]:\n",
    "        print(\"image index:\",i)\n",
    "        index=i\n",
    "        break"
   ]
  },
  {
   "cell_type": "code",
   "execution_count": 15,
   "metadata": {},
   "outputs": [
    {
     "name": "stdout",
     "output_type": "stream",
     "text": [
      "recognized face:  subject01_glasses.jpg\n"
     ]
    }
   ],
   "source": [
    "# print output image name\n",
    "i = 0\n",
    "index\n",
    "for filename in os.listdir(os.getcwd()+\"/\"+folder_tr):\n",
    "    \n",
    "    if index == i:\n",
    "        print(\"recognized face: \",filename)\n",
    "        break\n",
    "        \n",
    "    else:\n",
    "        i=i+1"
   ]
  },
  {
   "cell_type": "code",
   "execution_count": null,
   "metadata": {},
   "outputs": [],
   "source": []
  }
 ],
 "metadata": {
  "kernelspec": {
   "display_name": "Python 3",
   "language": "python",
   "name": "python3"
  },
  "language_info": {
   "codemirror_mode": {
    "name": "ipython",
    "version": 3
   },
   "file_extension": ".py",
   "mimetype": "text/x-python",
   "name": "python",
   "nbconvert_exporter": "python",
   "pygments_lexer": "ipython3",
   "version": "3.6.2"
  }
 },
 "nbformat": 4,
 "nbformat_minor": 2
}
