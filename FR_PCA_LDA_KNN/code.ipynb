{
 "cells": [
  {
   "cell_type": "markdown",
   "metadata": {},
   "source": [
    "Data preprocessing\n",
    "1. Make all files of same size\n",
    "2. Combine them all in single image\n",
    "\n",
    "Apply PCA followed by LDA\n",
    "1. Data normalization\n",
    "2. PCA\n",
    "3. LDA\n",
    "\n",
    "Test\n",
    "1. Use above classifier to classify\n",
    "\n",
    "PCA Algorithm\n",
    "M = total images\n",
    "1. For each training image\n",
    "    1.1 convert it into single face N^2 * 1 vector\n",
    "    1.2 subtract mean face from above vector\n",
    "        1.2.1 Average mean face = 1/M(sum(all single face vector))\n",
    "    1.3 Compute Covariance matrix\n",
    "        1.3.1 A = set of all single face vector (A is N^2 * M matrix)\n",
    "              C = \n",
    "              \n"
   ]
  },
  {
   "cell_type": "code",
   "execution_count": 1,
   "metadata": {},
   "outputs": [],
   "source": [
    "# #Making same size of all images\n",
    "# import numpy as np\n",
    "# import os\n",
    "\n",
    "# import cv2\n",
    "\n",
    "\n",
    "# def resizee(filepath):\n",
    "# \t#print filepath\n",
    "\n",
    "# \timage = cv2.imread(filepath)\n",
    "# \t# height, width, channels = image.shape\n",
    "\n",
    "# \tresized = cv2.resize(image, (500,500), interpolation = cv2.INTER_AREA)\n",
    "# \t# height, width, channels = resized.shape\n",
    "\n",
    "# \tfp=os.getcwd()+\"/ML facedata/\"\n",
    "# \tcv2.imwrite(fp+filename, resized)\n",
    "\n",
    "# for filename in os.listdir(os.getcwd()+\"/ML face images\"):\n",
    "# \tresizee(\"ML face images/\"+filename)"
   ]
  },
  {
   "cell_type": "code",
   "execution_count": 2,
   "metadata": {
    "collapsed": true
   },
   "outputs": [],
   "source": [
    "#importing required library\n",
    "import os\n",
    "import cv2\n",
    "import numpy as np"
   ]
  },
  {
   "cell_type": "code",
   "execution_count": 3,
   "metadata": {
    "collapsed": true
   },
   "outputs": [],
   "source": [
    "#initializing global parameters\n",
    "folder_tr = \"pencil/train\"\n",
    "folder_te = \"pencil/test\"\n",
    "total_tr = 224\n",
    "total_te = 82\n",
    "dim = 1200\n",
    "threshold = 90\n",
    "\n"
   ]
  },
  {
   "cell_type": "code",
   "execution_count": 4,
   "metadata": {},
   "outputs": [
    {
     "data": {
      "text/plain": [
       "224"
      ]
     },
     "execution_count": 4,
     "metadata": {},
     "output_type": "execute_result"
    }
   ],
   "source": [
    "#preparing lookup array\n",
    "lookup = []\n",
    "def fn(text):\n",
    "    ans=[]\n",
    "    for x in text:\n",
    "        if x == '_':\n",
    "            return (ans)\n",
    "        elif x== 'O':\n",
    "            return (ans)\n",
    "        elif x == 'o':\n",
    "            return (ans)\n",
    "        else:\n",
    "            ans+=x\n",
    "folder=\"cc\"\n",
    "for filename in os.listdir(os.getcwd()+\"/\"+folder_tr):\n",
    "    ans = fn(filename)\n",
    "    ans = ''.join(str(e) for e in ans)\n",
    "    lookup.append(ans)\n",
    "\n",
    "\n",
    "len(lookup)"
   ]
  },
  {
   "cell_type": "code",
   "execution_count": 5,
   "metadata": {},
   "outputs": [
    {
     "name": "stdout",
     "output_type": "stream",
     "text": [
      "(1440000, 224)\n",
      "done\n"
     ]
    }
   ],
   "source": [
    "#L is set of all training images\n",
    "#Currently L is zero matrix\n",
    "import numpy as np\n",
    "L = np.empty(shape=(dim*dim,total_tr), dtype='float64')\n",
    "print(L.shape)\n",
    "i = 0\n",
    "import os,cv2\n",
    "\n",
    "for filename in os.listdir(os.getcwd()+\"/\"+folder_tr):\n",
    "    #Read a image \n",
    "    image = cv2.imread(folder_tr+\"/\"+filename)\n",
    "    resized = cv2.resize(image, (dim,dim), interpolation = cv2.INTER_AREA)\n",
    "    #lookup.append(filename)\n",
    "    #Convert it into grayscale image\n",
    "    gray_image = cv2.cvtColor(resized, cv2.COLOR_BGR2GRAY)\n",
    "    #flattening an image\n",
    "    \n",
    "    gray_vector = np.array(gray_image, dtype='float64').flatten()\n",
    "    L[:, i] = gray_vector[:] \n",
    "    #temp.append(gray_vector)\n",
    "    i = i + 1\n",
    "\n",
    "print(\"done\")"
   ]
  },
  {
   "cell_type": "code",
   "execution_count": 16,
   "metadata": {},
   "outputs": [
    {
     "data": {
      "text/plain": [
       "(700, 523, 3)"
      ]
     },
     "execution_count": 16,
     "metadata": {},
     "output_type": "execute_result"
    }
   ],
   "source": []
  },
  {
   "cell_type": "code",
   "execution_count": 6,
   "metadata": {},
   "outputs": [
    {
     "name": "stdout",
     "output_type": "stream",
     "text": [
      "L (1440000, 224)\n",
      "LT (224, 1440000)\n",
      "mean face (1440000,)\n",
      "Covariance (LT)(L) (224, 224)\n",
      "done\n"
     ]
    }
   ],
   "source": [
    "#Mean face\n",
    "mean_face = np.sum(L, axis=1) /total_tr\n",
    "\n",
    "# # mean_face = np.matrix(mean_face)\n",
    "# # mean_face = mean_face.T\n",
    "mean_face[:]\n",
    "\n",
    "#subtract mean face\n",
    "for i in range(total_tr):\n",
    "    L[:,i] -= mean_face[:]\n",
    "\n",
    "print(\"L\",L.shape)\n",
    "print(\"LT\",L.T.shape)\n",
    "print(\"mean face\",mean_face.shape)\n",
    "\n",
    "LT = L.transpose()\n",
    "\n",
    "#calculate LTL: It is covariance matrix\n",
    "C = np.matrix(LT) * np.matrix(L)  \n",
    "C = C/total_tr\n",
    "print(\"Covariance (LT)(L)\",C.shape)\n",
    "\n",
    "#calculate eigenvector and eigenvalue of covariance matrix\n",
    "evalues,evectors = np.linalg.eig(C)\n",
    "\n",
    "#getting correct ordering\n",
    "sort_indices = evalues.real.argsort()[::-1]\n",
    "\n",
    "evalues = evalues.real[sort_indices]\n",
    "evectors = evectors[sort_indices]\n",
    "\n",
    "#Make a list of (eigenvalue, eigenvector) tuples\n",
    "eig_pairs = [(evalues[i], evectors[:,i]) for i in range(len(evalues))]\n",
    "print(\"done\")"
   ]
  },
  {
   "cell_type": "code",
   "execution_count": 7,
   "metadata": {},
   "outputs": [
    {
     "name": "stdout",
     "output_type": "stream",
     "text": [
      "89\n",
      "done\n"
     ]
    }
   ],
   "source": [
    "#decide value of K \n",
    "import plotly\n",
    "import plotly.plotly as py\n",
    "from plotly.graph_objs import *\n",
    "import plotly.tools as tls\n",
    "\n",
    "tot = sum(evalues)\n",
    "var_exp = [(i / tot)*100 for i in sorted(evalues, reverse=True)]\n",
    "cum_var_exp = np.cumsum(var_exp)\n",
    "\n",
    "K = 0\n",
    "#print(abs(cum_var_exp))\n",
    "for i in range(len(cum_var_exp)):\n",
    "    K = i\n",
    "    if(int(cum_var_exp[i])==threshold):\n",
    "        break\n",
    "print(K)\n",
    "trace1 = Bar(\n",
    "        x=['PC %s' %i for i in range(1,total_tr)],\n",
    "        y=var_exp,\n",
    "        showlegend=False)\n",
    "\n",
    "trace2 = Scatter(\n",
    "        x=['PC %s' %i for i in range(1,total_tr)], \n",
    "        y=cum_var_exp,\n",
    "        name='cumulative explained variance')\n",
    "\n",
    "data = Data([trace1, trace2])\n",
    "\n",
    "layout=Layout(\n",
    "        yaxis=YAxis(title='Explained variance in percent'),\n",
    "        title='Explained variance by different principal components')\n",
    "\n",
    "fig = Figure(data=data, layout=layout)\n",
    "#plotly.offline.plot(fig)\n",
    "print(\"done\")"
   ]
  },
  {
   "cell_type": "code",
   "execution_count": 8,
   "metadata": {},
   "outputs": [
    {
     "name": "stdout",
     "output_type": "stream",
     "text": [
      "done\n"
     ]
    }
   ],
   "source": [
    "#taking K eigenvector and putting into cols of P\n",
    "P = eig_pairs[0][1]\n",
    "for j in range(K-1):    \n",
    "    b = eig_pairs[j+1][1]\n",
    "    P = np.hstack((P,b)) \n",
    "print(\"done\")"
   ]
  },
  {
   "cell_type": "code",
   "execution_count": 9,
   "metadata": {},
   "outputs": [
    {
     "name": "stdout",
     "output_type": "stream",
     "text": [
      "done\n"
     ]
    }
   ],
   "source": [
    "#projecting\n",
    "evectors = L * P \n",
    "\n",
    "# #normalize eigenvectors\n",
    "norms = np.linalg.norm(evectors, axis=0)\n",
    "norms.shape\n",
    "evectors = evectors / norms \n",
    "# #computing weights\n",
    "W = evectors.transpose() * L  \n",
    "W.shape\n",
    "print(\"done\")"
   ]
  },
  {
   "cell_type": "code",
   "execution_count": 10,
   "metadata": {
    "scrolled": true
   },
   "outputs": [
    {
     "name": "stdout",
     "output_type": "stream",
     "text": [
      "done\n"
     ]
    }
   ],
   "source": [
    "#classification\n",
    "test_no = []\n",
    "i = 0\n",
    "wrong = 0\n",
    "for filename in os.listdir(os.getcwd()+\"/\"+folder_te):\n",
    "    ans = fn(filename)\n",
    "    ans = ''.join(str(e) for e in ans)\n",
    "    test_no.append(ans)\n",
    "    #print(\"i \",i,\"test_no \",test_no[0])\n",
    "    test = cv2.imread(folder_te+\"/\"+filename)    # read as a grayscale image\n",
    "    test = cv2.resize(test, (dim,dim), interpolation = cv2.INTER_AREA)\n",
    "    test= cv2.cvtColor(test, cv2.COLOR_BGR2GRAY)\n",
    "    img_col = np.array(test, dtype='float64').flatten()  \n",
    "    #print(img_col.shape)\n",
    "    img_col -= mean_face                                           # subract the mean column\n",
    "    img_col = np.reshape(img_col, (dim*dim, 1))                             # from row vector to col vector\n",
    "\n",
    "    S = evectors.transpose() * img_col                                 # projecting the normalized probe onto the\n",
    "                                                                            # Eigenspace, to find out the weights\n",
    "\n",
    "    diff = W - S                                                       # finding the min ||W_j - S||\n",
    "    norms = np.linalg.norm(diff, axis=0)\n",
    "\n",
    "    closest_face_id = np.argmin(norms)    \n",
    "    #print(test_no[i]+\" and \"+lookup[closest_face_id])\n",
    "    if(test_no[i]!=lookup[closest_face_id]):\n",
    "        wrong = wrong + 1\n",
    "    i = i + 1\n",
    "\n",
    "print(\"done\")"
   ]
  },
  {
   "cell_type": "code",
   "execution_count": 11,
   "metadata": {},
   "outputs": [
    {
     "name": "stdout",
     "output_type": "stream",
     "text": [
      "32\n"
     ]
    },
    {
     "data": {
      "text/plain": [
       "0.6097560975609756"
      ]
     },
     "execution_count": 11,
     "metadata": {},
     "output_type": "execute_result"
    }
   ],
   "source": [
    "#Accuracy\n",
    "print(wrong)\n",
    "1 - wrong/total_te"
   ]
  },
  {
   "cell_type": "code",
   "execution_count": 12,
   "metadata": {
    "collapsed": true
   },
   "outputs": [],
   "source": [
    "# #making N*N matrix for each from N^2 * 1 image\n",
    "# import matplotlib.pyplot as plt\n",
    "# for i in range(K):\n",
    "#     gray_vector1 = np.reshape(Y.T[i], (1000, 1000))\n",
    "#     #plt.imshow(gray_vector1,cmap='gray')\n",
    "    #plt.show()"
   ]
  }
 ],
 "metadata": {
  "kernelspec": {
   "display_name": "Python 3",
   "language": "python",
   "name": "python3"
  },
  "language_info": {
   "codemirror_mode": {
    "name": "ipython",
    "version": 3
   },
   "file_extension": ".py",
   "mimetype": "text/x-python",
   "name": "python",
   "nbconvert_exporter": "python",
   "pygments_lexer": "ipython3",
   "version": "3.6.3"
  }
 },
 "nbformat": 4,
 "nbformat_minor": 2
}
